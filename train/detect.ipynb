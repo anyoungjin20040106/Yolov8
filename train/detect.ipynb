{
 "cells": [
  {
   "cell_type": "code",
   "execution_count": 2,
   "metadata": {},
   "outputs": [],
   "source": [
    "from ultralytics import YOLO"
   ]
  },
  {
   "cell_type": "code",
   "execution_count": 3,
   "metadata": {},
   "outputs": [],
   "source": [
    "model=YOLO('brain.pt')"
   ]
  },
  {
   "cell_type": "code",
   "execution_count": 4,
   "metadata": {},
   "outputs": [
    {
     "name": "stdout",
     "output_type": "stream",
     "text": [
      "\n",
      "image 1/1 d:\\GitHub\\Yolov8\\train\\img\\test.jpg: 384x640 2 negatives, 1 positive, 89.3ms\n",
      "Speed: 2.6ms preprocess, 89.3ms inference, 0.8ms postprocess per image at shape (1, 3, 384, 640)\n",
      "Results saved to \u001b[1mruns\\detect\\predict2\u001b[0m\n"
     ]
    },
    {
     "data": {
      "text/plain": [
       "[ultralytics.engine.results.Results object with attributes:\n",
       " \n",
       " boxes: ultralytics.engine.results.Boxes object\n",
       " keypoints: None\n",
       " masks: None\n",
       " names: {0: 'negative', 1: 'positive'}\n",
       " obb: None\n",
       " orig_img: array([[[255, 255, 255],\n",
       "         [255, 255, 255],\n",
       "         [255, 255, 255],\n",
       "         ...,\n",
       "         [255, 255, 255],\n",
       "         [255, 255, 255],\n",
       "         [255, 255, 255]],\n",
       " \n",
       "        [[ 15,  15,  15],\n",
       "         [ 15,  15,  15],\n",
       "         [ 14,  14,  14],\n",
       "         ...,\n",
       "         [  2,   5,   3],\n",
       "         [  1,   3,   3],\n",
       "         [  0,   2,   2]],\n",
       " \n",
       "        [[ 15,  15,  15],\n",
       "         [ 15,  15,  15],\n",
       "         [ 14,  14,  14],\n",
       "         ...,\n",
       "         [  1,   4,   2],\n",
       "         [  1,   3,   3],\n",
       "         [  0,   2,   2]],\n",
       " \n",
       "        ...,\n",
       " \n",
       "        [[ 13,  13,  13],\n",
       "         [ 12,  12,  12],\n",
       "         [ 12,  12,  12],\n",
       "         ...,\n",
       "         [  3,   8,   6],\n",
       "         [  3,   8,   7],\n",
       "         [  6,  11,  10]],\n",
       " \n",
       "        [[ 13,  13,  13],\n",
       "         [ 12,  12,  12],\n",
       "         [ 11,  11,  11],\n",
       "         ...,\n",
       "         [  3,   8,   6],\n",
       "         [  4,   9,   8],\n",
       "         [  6,  11,  10]],\n",
       " \n",
       "        [[ 13,  13,  13],\n",
       "         [ 12,  12,  12],\n",
       "         [ 11,  11,  11],\n",
       "         ...,\n",
       "         [  9,  14,  12],\n",
       "         [  6,  11,  10],\n",
       "         [  7,  12,  11]]], dtype=uint8)\n",
       " orig_shape: (385, 656)\n",
       " path: 'd:\\\\GitHub\\\\Yolov8\\\\train\\\\img\\\\test.jpg'\n",
       " probs: None\n",
       " save_dir: 'runs\\\\detect\\\\predict2'\n",
       " speed: {'preprocess': 2.61540000064997, 'inference': 89.29870000065421, 'postprocess': 0.8430999987467658}]"
      ]
     },
     "execution_count": 4,
     "metadata": {},
     "output_type": "execute_result"
    }
   ],
   "source": [
    "model.predict('img/test.jpg',save=True)"
   ]
  },
  {
   "cell_type": "code",
   "execution_count": 5,
   "metadata": {},
   "outputs": [
    {
     "data": {
      "text/plain": [
       "{0: 'negative', 1: 'positive'}"
      ]
     },
     "execution_count": 5,
     "metadata": {},
     "output_type": "execute_result"
    }
   ],
   "source": [
    "model.names"
   ]
  }
 ],
 "metadata": {
  "kernelspec": {
   "display_name": "Python 3",
   "language": "python",
   "name": "python3"
  },
  "language_info": {
   "codemirror_mode": {
    "name": "ipython",
    "version": 3
   },
   "file_extension": ".py",
   "mimetype": "text/x-python",
   "name": "python",
   "nbconvert_exporter": "python",
   "pygments_lexer": "ipython3",
   "version": "3.11.9"
  }
 },
 "nbformat": 4,
 "nbformat_minor": 2
}
