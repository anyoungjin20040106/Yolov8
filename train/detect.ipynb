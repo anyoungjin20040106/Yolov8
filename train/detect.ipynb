{
 "cells": [
  {
   "cell_type": "code",
   "execution_count": 1,
   "metadata": {},
   "outputs": [],
   "source": [
    "from ultralytics import YOLO"
   ]
  },
  {
   "cell_type": "code",
   "execution_count": 2,
   "metadata": {},
   "outputs": [],
   "source": [
    "model=YOLO('brain.pt')"
   ]
  },
  {
   "cell_type": "code",
   "execution_count": 3,
   "metadata": {},
   "outputs": [
    {
     "name": "stdout",
     "output_type": "stream",
     "text": [
      "\n",
      "image 1/1 d:\\GitHub\\Yolov8\\train\\img\\test.jpg: 384x640 2 negatives, 1 positive, 78.6ms\n",
      "Speed: 1.7ms preprocess, 78.6ms inference, 0.9ms postprocess per image at shape (1, 3, 384, 640)\n",
      "Results saved to \u001b[1mruns\\detect\\predict\u001b[0m\n"
     ]
    },
    {
     "data": {
      "text/plain": [
       "[ultralytics.engine.results.Results object with attributes:\n",
       " \n",
       " boxes: ultralytics.engine.results.Boxes object\n",
       " keypoints: None\n",
       " masks: None\n",
       " names: {0: 'negative', 1: 'positive'}\n",
       " obb: None\n",
       " orig_img: array([[[255, 255, 255],\n",
       "         [255, 255, 255],\n",
       "         [255, 255, 255],\n",
       "         ...,\n",
       "         [255, 255, 255],\n",
       "         [255, 255, 255],\n",
       "         [255, 255, 255]],\n",
       " \n",
       "        [[ 15,  15,  15],\n",
       "         [ 15,  15,  15],\n",
       "         [ 14,  14,  14],\n",
       "         ...,\n",
       "         [  2,   5,   3],\n",
       "         [  1,   3,   3],\n",
       "         [  0,   2,   2]],\n",
       " \n",
       "        [[ 15,  15,  15],\n",
       "         [ 15,  15,  15],\n",
       "         [ 14,  14,  14],\n",
       "         ...,\n",
       "         [  1,   4,   2],\n",
       "         [  1,   3,   3],\n",
       "         [  0,   2,   2]],\n",
       " \n",
       "        ...,\n",
       " \n",
       "        [[ 13,  13,  13],\n",
       "         [ 12,  12,  12],\n",
       "         [ 12,  12,  12],\n",
       "         ...,\n",
       "         [  3,   8,   6],\n",
       "         [  3,   8,   7],\n",
       "         [  6,  11,  10]],\n",
       " \n",
       "        [[ 13,  13,  13],\n",
       "         [ 12,  12,  12],\n",
       "         [ 11,  11,  11],\n",
       "         ...,\n",
       "         [  3,   8,   6],\n",
       "         [  4,   9,   8],\n",
       "         [  6,  11,  10]],\n",
       " \n",
       "        [[ 13,  13,  13],\n",
       "         [ 12,  12,  12],\n",
       "         [ 11,  11,  11],\n",
       "         ...,\n",
       "         [  9,  14,  12],\n",
       "         [  6,  11,  10],\n",
       "         [  7,  12,  11]]], dtype=uint8)\n",
       " orig_shape: (385, 656)\n",
       " path: 'd:\\\\GitHub\\\\Yolov8\\\\train\\\\img\\\\test.jpg'\n",
       " probs: None\n",
       " save_dir: 'runs\\\\detect\\\\predict'\n",
       " speed: {'preprocess': 1.7140999998446205, 'inference': 78.59430000007706, 'postprocess': 0.8692999999766471}]"
      ]
     },
     "execution_count": 3,
     "metadata": {},
     "output_type": "execute_result"
    },
    {
     "ename": "",
     "evalue": "",
     "output_type": "error",
     "traceback": [
      "\u001b[1;31m현재 셀 또는 이전 셀에서 코드를 실행하는 동안 Kernel이 충돌했습니다. \n",
      "\u001b[1;31m셀의 코드를 검토하여 가능한 오류 원인을 식별하세요. \n",
      "\u001b[1;31m자세한 내용을 보려면 <a href='https://aka.ms/vscodeJupyterKernelCrash'>여기</a>를 클릭하세요. \n",
      "\u001b[1;31m자세한 내용은 Jupyter <a href='command:jupyter.viewOutput'>로그</a>를 참조하세요."
     ]
    }
   ],
   "source": [
    "model.predict(r'img\\test.jpg',save=True)"
   ]
  }
 ],
 "metadata": {
  "kernelspec": {
   "display_name": "Python 3",
   "language": "python",
   "name": "python3"
  },
  "language_info": {
   "codemirror_mode": {
    "name": "ipython",
    "version": 3
   },
   "file_extension": ".py",
   "mimetype": "text/x-python",
   "name": "python",
   "nbconvert_exporter": "python",
   "pygments_lexer": "ipython3",
   "version": "3.11.9"
  }
 },
 "nbformat": 4,
 "nbformat_minor": 2
}
