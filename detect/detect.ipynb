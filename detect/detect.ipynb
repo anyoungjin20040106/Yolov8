{
 "cells": [
  {
   "cell_type": "code",
   "execution_count": 2,
   "metadata": {},
   "outputs": [
    {
     "name": "stdout",
     "output_type": "stream",
     "text": [
      "Requirement already satisfied: pandas in d:\\github\\yolov8\\lib\\site-packages (2.2.3)\n",
      "Requirement already satisfied: numpy>=1.23.2 in d:\\github\\yolov8\\lib\\site-packages (from pandas) (2.1.1)\n",
      "Requirement already satisfied: python-dateutil>=2.8.2 in d:\\github\\yolov8\\lib\\site-packages (from pandas) (2.9.0.post0)\n",
      "Requirement already satisfied: pytz>=2020.1 in d:\\github\\yolov8\\lib\\site-packages (from pandas) (2025.1)\n",
      "Requirement already satisfied: tzdata>=2022.7 in d:\\github\\yolov8\\lib\\site-packages (from pandas) (2025.1)\n",
      "Requirement already satisfied: six>=1.5 in d:\\github\\yolov8\\lib\\site-packages (from python-dateutil>=2.8.2->pandas) (1.17.0)\n"
     ]
    },
    {
     "name": "stderr",
     "output_type": "stream",
     "text": [
      "\n",
      "[notice] A new release of pip is available: 24.0 -> 25.0.1\n",
      "[notice] To update, run: python.exe -m pip install --upgrade pip\n"
     ]
    },
    {
     "name": "stdout",
     "output_type": "stream",
     "text": [
      "Requirement already satisfied: ultralytics in d:\\github\\yolov8\\lib\\site-packages (8.3.75)\n",
      "Requirement already satisfied: numpy<=2.1.1,>=1.23.0 in d:\\github\\yolov8\\lib\\site-packages (from ultralytics) (2.1.1)\n",
      "Requirement already satisfied: matplotlib>=3.3.0 in d:\\github\\yolov8\\lib\\site-packages (from ultralytics) (3.10.0)\n",
      "Requirement already satisfied: opencv-python>=4.6.0 in d:\\github\\yolov8\\lib\\site-packages (from ultralytics) (4.11.0.86)\n",
      "Requirement already satisfied: pillow>=7.1.2 in d:\\github\\yolov8\\lib\\site-packages (from ultralytics) (11.1.0)\n",
      "Requirement already satisfied: pyyaml>=5.3.1 in d:\\github\\yolov8\\lib\\site-packages (from ultralytics) (6.0.2)\n",
      "Requirement already satisfied: requests>=2.23.0 in d:\\github\\yolov8\\lib\\site-packages (from ultralytics) (2.32.3)\n",
      "Requirement already satisfied: scipy>=1.4.1 in d:\\github\\yolov8\\lib\\site-packages (from ultralytics) (1.15.1)\n",
      "Requirement already satisfied: torch>=1.8.0 in d:\\github\\yolov8\\lib\\site-packages (from ultralytics) (2.6.0)\n",
      "Requirement already satisfied: torchvision>=0.9.0 in d:\\github\\yolov8\\lib\\site-packages (from ultralytics) (0.21.0)\n",
      "Requirement already satisfied: tqdm>=4.64.0 in d:\\github\\yolov8\\lib\\site-packages (from ultralytics) (4.67.1)\n",
      "Requirement already satisfied: psutil in d:\\github\\yolov8\\lib\\site-packages (from ultralytics) (7.0.0)\n",
      "Requirement already satisfied: py-cpuinfo in d:\\github\\yolov8\\lib\\site-packages (from ultralytics) (9.0.0)\n",
      "Requirement already satisfied: pandas>=1.1.4 in d:\\github\\yolov8\\lib\\site-packages (from ultralytics) (2.2.3)\n",
      "Requirement already satisfied: seaborn>=0.11.0 in d:\\github\\yolov8\\lib\\site-packages (from ultralytics) (0.13.2)\n",
      "Requirement already satisfied: ultralytics-thop>=2.0.0 in d:\\github\\yolov8\\lib\\site-packages (from ultralytics) (2.0.14)\n",
      "Requirement already satisfied: contourpy>=1.0.1 in d:\\github\\yolov8\\lib\\site-packages (from matplotlib>=3.3.0->ultralytics) (1.3.1)\n",
      "Requirement already satisfied: cycler>=0.10 in d:\\github\\yolov8\\lib\\site-packages (from matplotlib>=3.3.0->ultralytics) (0.12.1)\n",
      "Requirement already satisfied: fonttools>=4.22.0 in d:\\github\\yolov8\\lib\\site-packages (from matplotlib>=3.3.0->ultralytics) (4.56.0)\n",
      "Requirement already satisfied: kiwisolver>=1.3.1 in d:\\github\\yolov8\\lib\\site-packages (from matplotlib>=3.3.0->ultralytics) (1.4.8)\n",
      "Requirement already satisfied: packaging>=20.0 in d:\\github\\yolov8\\lib\\site-packages (from matplotlib>=3.3.0->ultralytics) (24.2)\n",
      "Requirement already satisfied: pyparsing>=2.3.1 in d:\\github\\yolov8\\lib\\site-packages (from matplotlib>=3.3.0->ultralytics) (3.2.1)\n",
      "Requirement already satisfied: python-dateutil>=2.7 in d:\\github\\yolov8\\lib\\site-packages (from matplotlib>=3.3.0->ultralytics) (2.9.0.post0)\n",
      "Requirement already satisfied: pytz>=2020.1 in d:\\github\\yolov8\\lib\\site-packages (from pandas>=1.1.4->ultralytics) (2025.1)\n",
      "Requirement already satisfied: tzdata>=2022.7 in d:\\github\\yolov8\\lib\\site-packages (from pandas>=1.1.4->ultralytics) (2025.1)\n",
      "Requirement already satisfied: charset-normalizer<4,>=2 in d:\\github\\yolov8\\lib\\site-packages (from requests>=2.23.0->ultralytics) (3.4.1)\n",
      "Requirement already satisfied: idna<4,>=2.5 in d:\\github\\yolov8\\lib\\site-packages (from requests>=2.23.0->ultralytics) (3.10)\n",
      "Requirement already satisfied: urllib3<3,>=1.21.1 in d:\\github\\yolov8\\lib\\site-packages (from requests>=2.23.0->ultralytics) (2.3.0)\n",
      "Requirement already satisfied: certifi>=2017.4.17 in d:\\github\\yolov8\\lib\\site-packages (from requests>=2.23.0->ultralytics) (2025.1.31)\n",
      "Requirement already satisfied: filelock in d:\\github\\yolov8\\lib\\site-packages (from torch>=1.8.0->ultralytics) (3.17.0)\n",
      "Requirement already satisfied: typing-extensions>=4.10.0 in d:\\github\\yolov8\\lib\\site-packages (from torch>=1.8.0->ultralytics) (4.12.2)\n",
      "Requirement already satisfied: networkx in d:\\github\\yolov8\\lib\\site-packages (from torch>=1.8.0->ultralytics) (3.4.2)\n",
      "Requirement already satisfied: jinja2 in d:\\github\\yolov8\\lib\\site-packages (from torch>=1.8.0->ultralytics) (3.1.5)\n",
      "Requirement already satisfied: fsspec in d:\\github\\yolov8\\lib\\site-packages (from torch>=1.8.0->ultralytics) (2025.2.0)\n",
      "Requirement already satisfied: sympy==1.13.1 in d:\\github\\yolov8\\lib\\site-packages (from torch>=1.8.0->ultralytics) (1.13.1)\n",
      "Requirement already satisfied: mpmath<1.4,>=1.1.0 in d:\\github\\yolov8\\lib\\site-packages (from sympy==1.13.1->torch>=1.8.0->ultralytics) (1.3.0)\n",
      "Requirement already satisfied: colorama in d:\\github\\yolov8\\lib\\site-packages (from tqdm>=4.64.0->ultralytics) (0.4.6)\n",
      "Requirement already satisfied: six>=1.5 in d:\\github\\yolov8\\lib\\site-packages (from python-dateutil>=2.7->matplotlib>=3.3.0->ultralytics) (1.17.0)\n",
      "Requirement already satisfied: MarkupSafe>=2.0 in d:\\github\\yolov8\\lib\\site-packages (from jinja2->torch>=1.8.0->ultralytics) (3.0.2)\n"
     ]
    },
    {
     "name": "stderr",
     "output_type": "stream",
     "text": [
      "\n",
      "[notice] A new release of pip is available: 24.0 -> 25.0.1\n",
      "[notice] To update, run: python.exe -m pip install --upgrade pip\n"
     ]
    },
    {
     "name": "stdout",
     "output_type": "stream",
     "text": [
      "Requirement already satisfied: openpyxl in d:\\github\\yolov8\\lib\\site-packages (3.1.5)\n",
      "Requirement already satisfied: et-xmlfile in d:\\github\\yolov8\\lib\\site-packages (from openpyxl) (2.0.0)\n"
     ]
    },
    {
     "name": "stderr",
     "output_type": "stream",
     "text": [
      "\n",
      "[notice] A new release of pip is available: 24.0 -> 25.0.1\n",
      "[notice] To update, run: python.exe -m pip install --upgrade pip\n"
     ]
    }
   ],
   "source": [
    "!pip install pandas\n",
    "!pip install ultralytics\n",
    "!pip install openpyxl"
   ]
  },
  {
   "cell_type": "code",
   "execution_count": 1,
   "metadata": {},
   "outputs": [],
   "source": [
    "from ultralytics import YOLO\n",
    "import pandas as pd\n",
    "import os"
   ]
  },
  {
   "cell_type": "markdown",
   "metadata": {},
   "source": [
    "# Yolo를 부르는법"
   ]
  },
  {
   "cell_type": "code",
   "execution_count": 2,
   "metadata": {},
   "outputs": [
    {
     "name": "stdout",
     "output_type": "stream",
     "text": [
      "Downloading https://github.com/ultralytics/assets/releases/download/v8.3.0/yolo11n.pt to 'yolo11n.pt'...\n"
     ]
    },
    {
     "name": "stderr",
     "output_type": "stream",
     "text": [
      "100%|██████████| 5.35M/5.35M [00:01<00:00, 5.33MB/s]\n"
     ]
    },
    {
     "name": "stdout",
     "output_type": "stream",
     "text": [
      "\n",
      "image 1/1 d:\\GitHub\\Yolov8\\UseYolo\\img\\img.jpg: 608x640 10 persons, 284.1ms\n",
      "Speed: 6.9ms preprocess, 284.1ms inference, 18.0ms postprocess per image at shape (1, 3, 608, 640)\n"
     ]
    },
    {
     "data": {
      "text/plain": [
       "[ultralytics.engine.results.Results object with attributes:\n",
       " \n",
       " boxes: ultralytics.engine.results.Boxes object\n",
       " keypoints: None\n",
       " masks: None\n",
       " names: {0: 'person', 1: 'bicycle', 2: 'car', 3: 'motorcycle', 4: 'airplane', 5: 'bus', 6: 'train', 7: 'truck', 8: 'boat', 9: 'traffic light', 10: 'fire hydrant', 11: 'stop sign', 12: 'parking meter', 13: 'bench', 14: 'bird', 15: 'cat', 16: 'dog', 17: 'horse', 18: 'sheep', 19: 'cow', 20: 'elephant', 21: 'bear', 22: 'zebra', 23: 'giraffe', 24: 'backpack', 25: 'umbrella', 26: 'handbag', 27: 'tie', 28: 'suitcase', 29: 'frisbee', 30: 'skis', 31: 'snowboard', 32: 'sports ball', 33: 'kite', 34: 'baseball bat', 35: 'baseball glove', 36: 'skateboard', 37: 'surfboard', 38: 'tennis racket', 39: 'bottle', 40: 'wine glass', 41: 'cup', 42: 'fork', 43: 'knife', 44: 'spoon', 45: 'bowl', 46: 'banana', 47: 'apple', 48: 'sandwich', 49: 'orange', 50: 'broccoli', 51: 'carrot', 52: 'hot dog', 53: 'pizza', 54: 'donut', 55: 'cake', 56: 'chair', 57: 'couch', 58: 'potted plant', 59: 'bed', 60: 'dining table', 61: 'toilet', 62: 'tv', 63: 'laptop', 64: 'mouse', 65: 'remote', 66: 'keyboard', 67: 'cell phone', 68: 'microwave', 69: 'oven', 70: 'toaster', 71: 'sink', 72: 'refrigerator', 73: 'book', 74: 'clock', 75: 'vase', 76: 'scissors', 77: 'teddy bear', 78: 'hair drier', 79: 'toothbrush'}\n",
       " obb: None\n",
       " orig_img: array([[[20, 21, 11],\n",
       "         [20, 21, 11],\n",
       "         [20, 21, 11],\n",
       "         ...,\n",
       "         [33, 33, 27],\n",
       "         [33, 33, 27],\n",
       "         [33, 33, 27]],\n",
       " \n",
       "        [[20, 21, 11],\n",
       "         [20, 21, 11],\n",
       "         [20, 21, 11],\n",
       "         ...,\n",
       "         [33, 33, 27],\n",
       "         [33, 33, 27],\n",
       "         [33, 33, 27]],\n",
       " \n",
       "        [[20, 21, 11],\n",
       "         [20, 21, 11],\n",
       "         [20, 21, 11],\n",
       "         ...,\n",
       "         [33, 33, 27],\n",
       "         [33, 33, 27],\n",
       "         [33, 33, 27]],\n",
       " \n",
       "        ...,\n",
       " \n",
       "        [[27, 29, 30],\n",
       "         [27, 29, 30],\n",
       "         [27, 29, 30],\n",
       "         ...,\n",
       "         [19, 17, 17],\n",
       "         [19, 17, 17],\n",
       "         [20, 18, 18]],\n",
       " \n",
       "        [[27, 29, 30],\n",
       "         [27, 29, 30],\n",
       "         [27, 29, 30],\n",
       "         ...,\n",
       "         [18, 16, 16],\n",
       "         [19, 17, 17],\n",
       "         [19, 17, 17]],\n",
       " \n",
       "        [[27, 29, 30],\n",
       "         [27, 29, 30],\n",
       "         [27, 29, 30],\n",
       "         ...,\n",
       "         [18, 16, 16],\n",
       "         [18, 16, 16],\n",
       "         [19, 17, 17]]], dtype=uint8)\n",
       " orig_shape: (1196, 1276)\n",
       " path: 'd:\\\\GitHub\\\\Yolov8\\\\UseYolo\\\\img\\\\img.jpg'\n",
       " probs: None\n",
       " save_dir: 'runs\\\\detect\\\\predict'\n",
       " speed: {'preprocess': 6.871800000226358, 'inference': 284.0687000025355, 'postprocess': 17.973400001210393}]"
      ]
     },
     "execution_count": 2,
     "metadata": {},
     "output_type": "execute_result"
    }
   ],
   "source": [
    "model=YOLO()\n",
    "model.predict('img\\img.jpg')"
   ]
  },
  {
   "cell_type": "markdown",
   "metadata": {},
   "source": [
    "# Yolo 예측하기"
   ]
  },
  {
   "cell_type": "code",
   "execution_count": 6,
   "metadata": {},
   "outputs": [
    {
     "name": "stdout",
     "output_type": "stream",
     "text": [
      "\n",
      "image 1/1 d:\\GitHub\\Yolov8\\UseYolo\\img\\img.jpg: 608x640 10 persons, 182.3ms\n",
      "Speed: 8.4ms preprocess, 182.3ms inference, 1.5ms postprocess per image at shape (1, 3, 608, 640)\n",
      "Results saved to \u001b[1mruns\\detect\\predict\u001b[0m\n"
     ]
    },
    {
     "data": {
      "text/plain": [
       "[ultralytics.engine.results.Results object with attributes:\n",
       " \n",
       " boxes: ultralytics.engine.results.Boxes object\n",
       " keypoints: None\n",
       " masks: None\n",
       " names: {0: 'person', 1: 'bicycle', 2: 'car', 3: 'motorcycle', 4: 'airplane', 5: 'bus', 6: 'train', 7: 'truck', 8: 'boat', 9: 'traffic light', 10: 'fire hydrant', 11: 'stop sign', 12: 'parking meter', 13: 'bench', 14: 'bird', 15: 'cat', 16: 'dog', 17: 'horse', 18: 'sheep', 19: 'cow', 20: 'elephant', 21: 'bear', 22: 'zebra', 23: 'giraffe', 24: 'backpack', 25: 'umbrella', 26: 'handbag', 27: 'tie', 28: 'suitcase', 29: 'frisbee', 30: 'skis', 31: 'snowboard', 32: 'sports ball', 33: 'kite', 34: 'baseball bat', 35: 'baseball glove', 36: 'skateboard', 37: 'surfboard', 38: 'tennis racket', 39: 'bottle', 40: 'wine glass', 41: 'cup', 42: 'fork', 43: 'knife', 44: 'spoon', 45: 'bowl', 46: 'banana', 47: 'apple', 48: 'sandwich', 49: 'orange', 50: 'broccoli', 51: 'carrot', 52: 'hot dog', 53: 'pizza', 54: 'donut', 55: 'cake', 56: 'chair', 57: 'couch', 58: 'potted plant', 59: 'bed', 60: 'dining table', 61: 'toilet', 62: 'tv', 63: 'laptop', 64: 'mouse', 65: 'remote', 66: 'keyboard', 67: 'cell phone', 68: 'microwave', 69: 'oven', 70: 'toaster', 71: 'sink', 72: 'refrigerator', 73: 'book', 74: 'clock', 75: 'vase', 76: 'scissors', 77: 'teddy bear', 78: 'hair drier', 79: 'toothbrush'}\n",
       " obb: None\n",
       " orig_img: array([[[20, 21, 11],\n",
       "         [20, 21, 11],\n",
       "         [20, 21, 11],\n",
       "         ...,\n",
       "         [33, 33, 27],\n",
       "         [33, 33, 27],\n",
       "         [33, 33, 27]],\n",
       " \n",
       "        [[20, 21, 11],\n",
       "         [20, 21, 11],\n",
       "         [20, 21, 11],\n",
       "         ...,\n",
       "         [33, 33, 27],\n",
       "         [33, 33, 27],\n",
       "         [33, 33, 27]],\n",
       " \n",
       "        [[20, 21, 11],\n",
       "         [20, 21, 11],\n",
       "         [20, 21, 11],\n",
       "         ...,\n",
       "         [33, 33, 27],\n",
       "         [33, 33, 27],\n",
       "         [33, 33, 27]],\n",
       " \n",
       "        ...,\n",
       " \n",
       "        [[27, 29, 30],\n",
       "         [27, 29, 30],\n",
       "         [27, 29, 30],\n",
       "         ...,\n",
       "         [19, 17, 17],\n",
       "         [19, 17, 17],\n",
       "         [20, 18, 18]],\n",
       " \n",
       "        [[27, 29, 30],\n",
       "         [27, 29, 30],\n",
       "         [27, 29, 30],\n",
       "         ...,\n",
       "         [18, 16, 16],\n",
       "         [19, 17, 17],\n",
       "         [19, 17, 17]],\n",
       " \n",
       "        [[27, 29, 30],\n",
       "         [27, 29, 30],\n",
       "         [27, 29, 30],\n",
       "         ...,\n",
       "         [18, 16, 16],\n",
       "         [18, 16, 16],\n",
       "         [19, 17, 17]]], dtype=uint8)\n",
       " orig_shape: (1196, 1276)\n",
       " path: 'd:\\\\GitHub\\\\Yolov8\\\\UseYolo\\\\img\\\\img.jpg'\n",
       " probs: None\n",
       " save_dir: 'runs\\\\detect\\\\predict'\n",
       " speed: {'preprocess': 8.440099998551887, 'inference': 182.29479999718023, 'postprocess': 1.4564000011887401}]"
      ]
     },
     "execution_count": 6,
     "metadata": {},
     "output_type": "execute_result"
    }
   ],
   "source": [
    "model.predict('img\\img.jpg',save=True)"
   ]
  },
  {
   "cell_type": "markdown",
   "metadata": {},
   "source": [
    "# 내가 만든 함수"
   ]
  },
  {
   "cell_type": "code",
   "execution_count": 10,
   "metadata": {},
   "outputs": [],
   "source": [
    "# 엑셀표로 변환\n",
    "def PredictToPandas(img_path, model,save_path=None):\n",
    "    result = model.predict(img_path)\n",
    "    if not result:\n",
    "        return pd.DataFrame(columns=[\"xmin\", \"ymin\", \"xmax\", \"ymax\", \"conf\", \"cls\", \"name\"])\n",
    "    \n",
    "    boxes = result[0].boxes\n",
    "    xyxy = boxes.xyxy.cpu().numpy()\n",
    "    cls = boxes.cls.cpu().numpy()\n",
    "    conf = boxes.conf.cpu().numpy()\n",
    "    df=pd.DataFrame({\n",
    "        \"xmin\": xyxy[:, 0],\n",
    "        \"ymin\": xyxy[:, 1],\n",
    "        \"xmax\": xyxy[:, 2],\n",
    "        \"ymax\": xyxy[:, 3],\n",
    "        \"conf\": conf,\n",
    "        \"cls\": cls,\n",
    "        \"name\": [model.names[int(i)] for i in cls]\n",
    "    })\n",
    "    \n",
    "    if save_path:\n",
    "        os.makedirs('result', exist_ok=True)\n",
    "        save_path=os.path.join('result', save_path)\n",
    "        if save_path.endswith(\".csv\"):\n",
    "            df.to_csv(save_path, index=False)\n",
    "        elif save_path.endswith(\".json\"):\n",
    "            df.to_json(save_path, orient=\"records\", indent=4)\n",
    "        elif save_path.endswith(\".xlsx\"):\n",
    "            df.to_excel(save_path, index=False)\n",
    "        else:\n",
    "            print(\"Unsupported file format. Use .csv, .json, or .xlsx\")\n",
    "    return df"
   ]
  },
  {
   "cell_type": "code",
   "execution_count": 17,
   "metadata": {},
   "outputs": [
    {
     "name": "stdout",
     "output_type": "stream",
     "text": [
      "\n",
      "image 1/1 d:\\GitHub\\Yolov8\\img\\muder.jpg: 640x640 1 person, 1 scissors, 110.1ms\n",
      "Speed: 4.6ms preprocess, 110.1ms inference, 1.0ms postprocess per image at shape (1, 3, 640, 640)\n"
     ]
    },
    {
     "data": {
      "text/html": [
       "<div>\n",
       "<style scoped>\n",
       "    .dataframe tbody tr th:only-of-type {\n",
       "        vertical-align: middle;\n",
       "    }\n",
       "\n",
       "    .dataframe tbody tr th {\n",
       "        vertical-align: top;\n",
       "    }\n",
       "\n",
       "    .dataframe thead th {\n",
       "        text-align: right;\n",
       "    }\n",
       "</style>\n",
       "<table border=\"1\" class=\"dataframe\">\n",
       "  <thead>\n",
       "    <tr style=\"text-align: right;\">\n",
       "      <th></th>\n",
       "      <th>xmin</th>\n",
       "      <th>ymin</th>\n",
       "      <th>xmax</th>\n",
       "      <th>ymax</th>\n",
       "      <th>conf</th>\n",
       "      <th>cls</th>\n",
       "      <th>name</th>\n",
       "    </tr>\n",
       "  </thead>\n",
       "  <tbody>\n",
       "    <tr>\n",
       "      <th>0</th>\n",
       "      <td>298.764252</td>\n",
       "      <td>0.371289</td>\n",
       "      <td>1022.337219</td>\n",
       "      <td>994.979858</td>\n",
       "      <td>0.787023</td>\n",
       "      <td>0.0</td>\n",
       "      <td>person</td>\n",
       "    </tr>\n",
       "    <tr>\n",
       "      <th>1</th>\n",
       "      <td>308.218170</td>\n",
       "      <td>346.534485</td>\n",
       "      <td>756.365723</td>\n",
       "      <td>917.523315</td>\n",
       "      <td>0.429184</td>\n",
       "      <td>76.0</td>\n",
       "      <td>scissors</td>\n",
       "    </tr>\n",
       "  </tbody>\n",
       "</table>\n",
       "</div>"
      ],
      "text/plain": [
       "         xmin        ymin         xmax        ymax      conf   cls      name\n",
       "0  298.764252    0.371289  1022.337219  994.979858  0.787023   0.0    person\n",
       "1  308.218170  346.534485   756.365723  917.523315  0.429184  76.0  scissors"
      ]
     },
     "execution_count": 17,
     "metadata": {},
     "output_type": "execute_result"
    }
   ],
   "source": [
    "PredictToPandas('img\\muder.jpg',model)"
   ]
  },
  {
   "cell_type": "code",
   "execution_count": 18,
   "metadata": {},
   "outputs": [
    {
     "name": "stdout",
     "output_type": "stream",
     "text": [
      "\n",
      "image 1/1 d:\\GitHub\\Yolov8\\img\\muder1.jpg: 640x640 2 persons, 1 knife, 1 scissors, 137.6ms\n",
      "Speed: 6.5ms preprocess, 137.6ms inference, 1.4ms postprocess per image at shape (1, 3, 640, 640)\n"
     ]
    },
    {
     "data": {
      "text/html": [
       "<div>\n",
       "<style scoped>\n",
       "    .dataframe tbody tr th:only-of-type {\n",
       "        vertical-align: middle;\n",
       "    }\n",
       "\n",
       "    .dataframe tbody tr th {\n",
       "        vertical-align: top;\n",
       "    }\n",
       "\n",
       "    .dataframe thead th {\n",
       "        text-align: right;\n",
       "    }\n",
       "</style>\n",
       "<table border=\"1\" class=\"dataframe\">\n",
       "  <thead>\n",
       "    <tr style=\"text-align: right;\">\n",
       "      <th></th>\n",
       "      <th>xmin</th>\n",
       "      <th>ymin</th>\n",
       "      <th>xmax</th>\n",
       "      <th>ymax</th>\n",
       "      <th>conf</th>\n",
       "      <th>cls</th>\n",
       "      <th>name</th>\n",
       "    </tr>\n",
       "  </thead>\n",
       "  <tbody>\n",
       "    <tr>\n",
       "      <th>0</th>\n",
       "      <td>331.040039</td>\n",
       "      <td>0.019727</td>\n",
       "      <td>1022.281372</td>\n",
       "      <td>1020.177917</td>\n",
       "      <td>0.385402</td>\n",
       "      <td>0.0</td>\n",
       "      <td>person</td>\n",
       "    </tr>\n",
       "    <tr>\n",
       "      <th>1</th>\n",
       "      <td>408.363831</td>\n",
       "      <td>616.659058</td>\n",
       "      <td>437.935730</td>\n",
       "      <td>726.174683</td>\n",
       "      <td>0.345758</td>\n",
       "      <td>0.0</td>\n",
       "      <td>person</td>\n",
       "    </tr>\n",
       "    <tr>\n",
       "      <th>2</th>\n",
       "      <td>514.876343</td>\n",
       "      <td>548.515442</td>\n",
       "      <td>820.103821</td>\n",
       "      <td>885.892395</td>\n",
       "      <td>0.328198</td>\n",
       "      <td>43.0</td>\n",
       "      <td>knife</td>\n",
       "    </tr>\n",
       "    <tr>\n",
       "      <th>3</th>\n",
       "      <td>515.508911</td>\n",
       "      <td>554.779785</td>\n",
       "      <td>820.507141</td>\n",
       "      <td>886.628906</td>\n",
       "      <td>0.267664</td>\n",
       "      <td>76.0</td>\n",
       "      <td>scissors</td>\n",
       "    </tr>\n",
       "  </tbody>\n",
       "</table>\n",
       "</div>"
      ],
      "text/plain": [
       "         xmin        ymin         xmax         ymax      conf   cls      name\n",
       "0  331.040039    0.019727  1022.281372  1020.177917  0.385402   0.0    person\n",
       "1  408.363831  616.659058   437.935730   726.174683  0.345758   0.0    person\n",
       "2  514.876343  548.515442   820.103821   885.892395  0.328198  43.0     knife\n",
       "3  515.508911  554.779785   820.507141   886.628906  0.267664  76.0  scissors"
      ]
     },
     "execution_count": 18,
     "metadata": {},
     "output_type": "execute_result"
    }
   ],
   "source": [
    "PredictToPandas('img\\muder1.jpg',model)"
   ]
  },
  {
   "cell_type": "code",
   "execution_count": 15,
   "metadata": {},
   "outputs": [
    {
     "name": "stdout",
     "output_type": "stream",
     "text": [
      "\n",
      "image 1/1 d:\\GitHub\\Yolov8\\img\\ive.png: 384x640 6 persons, 82.9ms\n",
      "Speed: 2.3ms preprocess, 82.9ms inference, 1.3ms postprocess per image at shape (1, 3, 384, 640)\n"
     ]
    },
    {
     "data": {
      "text/html": [
       "<div>\n",
       "<style scoped>\n",
       "    .dataframe tbody tr th:only-of-type {\n",
       "        vertical-align: middle;\n",
       "    }\n",
       "\n",
       "    .dataframe tbody tr th {\n",
       "        vertical-align: top;\n",
       "    }\n",
       "\n",
       "    .dataframe thead th {\n",
       "        text-align: right;\n",
       "    }\n",
       "</style>\n",
       "<table border=\"1\" class=\"dataframe\">\n",
       "  <thead>\n",
       "    <tr style=\"text-align: right;\">\n",
       "      <th></th>\n",
       "      <th>xmin</th>\n",
       "      <th>ymin</th>\n",
       "      <th>xmax</th>\n",
       "      <th>ymax</th>\n",
       "      <th>conf</th>\n",
       "      <th>cls</th>\n",
       "      <th>name</th>\n",
       "    </tr>\n",
       "  </thead>\n",
       "  <tbody>\n",
       "    <tr>\n",
       "      <th>0</th>\n",
       "      <td>590.319153</td>\n",
       "      <td>129.213760</td>\n",
       "      <td>864.542419</td>\n",
       "      <td>983.674561</td>\n",
       "      <td>0.936161</td>\n",
       "      <td>0.0</td>\n",
       "      <td>person</td>\n",
       "    </tr>\n",
       "    <tr>\n",
       "      <th>1</th>\n",
       "      <td>835.906738</td>\n",
       "      <td>118.302330</td>\n",
       "      <td>1143.578491</td>\n",
       "      <td>982.753967</td>\n",
       "      <td>0.913582</td>\n",
       "      <td>0.0</td>\n",
       "      <td>person</td>\n",
       "    </tr>\n",
       "    <tr>\n",
       "      <th>2</th>\n",
       "      <td>1104.794067</td>\n",
       "      <td>154.973434</td>\n",
       "      <td>1395.048218</td>\n",
       "      <td>983.234680</td>\n",
       "      <td>0.884825</td>\n",
       "      <td>0.0</td>\n",
       "      <td>person</td>\n",
       "    </tr>\n",
       "    <tr>\n",
       "      <th>3</th>\n",
       "      <td>228.563736</td>\n",
       "      <td>171.295166</td>\n",
       "      <td>631.370667</td>\n",
       "      <td>986.000000</td>\n",
       "      <td>0.880472</td>\n",
       "      <td>0.0</td>\n",
       "      <td>person</td>\n",
       "    </tr>\n",
       "    <tr>\n",
       "      <th>4</th>\n",
       "      <td>50.608059</td>\n",
       "      <td>157.456116</td>\n",
       "      <td>330.638977</td>\n",
       "      <td>981.472351</td>\n",
       "      <td>0.877162</td>\n",
       "      <td>0.0</td>\n",
       "      <td>person</td>\n",
       "    </tr>\n",
       "    <tr>\n",
       "      <th>5</th>\n",
       "      <td>1339.870117</td>\n",
       "      <td>121.056694</td>\n",
       "      <td>1628.415039</td>\n",
       "      <td>984.288452</td>\n",
       "      <td>0.870493</td>\n",
       "      <td>0.0</td>\n",
       "      <td>person</td>\n",
       "    </tr>\n",
       "  </tbody>\n",
       "</table>\n",
       "</div>"
      ],
      "text/plain": [
       "          xmin        ymin         xmax        ymax      conf  cls    name\n",
       "0   590.319153  129.213760   864.542419  983.674561  0.936161  0.0  person\n",
       "1   835.906738  118.302330  1143.578491  982.753967  0.913582  0.0  person\n",
       "2  1104.794067  154.973434  1395.048218  983.234680  0.884825  0.0  person\n",
       "3   228.563736  171.295166   631.370667  986.000000  0.880472  0.0  person\n",
       "4    50.608059  157.456116   330.638977  981.472351  0.877162  0.0  person\n",
       "5  1339.870117  121.056694  1628.415039  984.288452  0.870493  0.0  person"
      ]
     },
     "execution_count": 15,
     "metadata": {},
     "output_type": "execute_result"
    }
   ],
   "source": [
    "PredictToPandas('img\\ive.png',model)"
   ]
  }
 ],
 "metadata": {
  "kernelspec": {
   "display_name": "Yolov8",
   "language": "python",
   "name": "python3"
  },
  "language_info": {
   "codemirror_mode": {
    "name": "ipython",
    "version": 3
   },
   "file_extension": ".py",
   "mimetype": "text/x-python",
   "name": "python",
   "nbconvert_exporter": "python",
   "pygments_lexer": "ipython3",
   "version": "3.11.9"
  }
 },
 "nbformat": 4,
 "nbformat_minor": 2
}
