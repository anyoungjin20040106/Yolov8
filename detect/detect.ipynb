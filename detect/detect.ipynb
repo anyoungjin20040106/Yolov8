{
 "cells": [
  {
   "cell_type": "code",
   "execution_count": 2,
   "metadata": {},
   "outputs": [
    {
     "name": "stdout",
     "output_type": "stream",
     "text": [
      "Requirement already satisfied: pandas in d:\\github\\yolov8\\lib\\site-packages (2.2.3)\n",
      "Requirement already satisfied: numpy>=1.23.2 in d:\\github\\yolov8\\lib\\site-packages (from pandas) (2.1.1)\n",
      "Requirement already satisfied: python-dateutil>=2.8.2 in d:\\github\\yolov8\\lib\\site-packages (from pandas) (2.9.0.post0)\n",
      "Requirement already satisfied: pytz>=2020.1 in d:\\github\\yolov8\\lib\\site-packages (from pandas) (2025.1)\n",
      "Requirement already satisfied: tzdata>=2022.7 in d:\\github\\yolov8\\lib\\site-packages (from pandas) (2025.1)\n",
      "Requirement already satisfied: six>=1.5 in d:\\github\\yolov8\\lib\\site-packages (from python-dateutil>=2.8.2->pandas) (1.17.0)\n"
     ]
    },
    {
     "name": "stderr",
     "output_type": "stream",
     "text": [
      "\n",
      "[notice] A new release of pip is available: 24.0 -> 25.0.1\n",
      "[notice] To update, run: python.exe -m pip install --upgrade pip\n"
     ]
    },
    {
     "name": "stdout",
     "output_type": "stream",
     "text": [
      "Requirement already satisfied: ultralytics in d:\\github\\yolov8\\lib\\site-packages (8.3.75)\n",
      "Requirement already satisfied: numpy<=2.1.1,>=1.23.0 in d:\\github\\yolov8\\lib\\site-packages (from ultralytics) (2.1.1)\n",
      "Requirement already satisfied: matplotlib>=3.3.0 in d:\\github\\yolov8\\lib\\site-packages (from ultralytics) (3.10.0)\n",
      "Requirement already satisfied: opencv-python>=4.6.0 in d:\\github\\yolov8\\lib\\site-packages (from ultralytics) (4.11.0.86)\n",
      "Requirement already satisfied: pillow>=7.1.2 in d:\\github\\yolov8\\lib\\site-packages (from ultralytics) (11.1.0)\n",
      "Requirement already satisfied: pyyaml>=5.3.1 in d:\\github\\yolov8\\lib\\site-packages (from ultralytics) (6.0.2)\n",
      "Requirement already satisfied: requests>=2.23.0 in d:\\github\\yolov8\\lib\\site-packages (from ultralytics) (2.32.3)\n",
      "Requirement already satisfied: scipy>=1.4.1 in d:\\github\\yolov8\\lib\\site-packages (from ultralytics) (1.15.1)\n",
      "Requirement already satisfied: torch>=1.8.0 in d:\\github\\yolov8\\lib\\site-packages (from ultralytics) (2.6.0)\n",
      "Requirement already satisfied: torchvision>=0.9.0 in d:\\github\\yolov8\\lib\\site-packages (from ultralytics) (0.21.0)\n",
      "Requirement already satisfied: tqdm>=4.64.0 in d:\\github\\yolov8\\lib\\site-packages (from ultralytics) (4.67.1)\n",
      "Requirement already satisfied: psutil in d:\\github\\yolov8\\lib\\site-packages (from ultralytics) (7.0.0)\n",
      "Requirement already satisfied: py-cpuinfo in d:\\github\\yolov8\\lib\\site-packages (from ultralytics) (9.0.0)\n",
      "Requirement already satisfied: pandas>=1.1.4 in d:\\github\\yolov8\\lib\\site-packages (from ultralytics) (2.2.3)\n",
      "Requirement already satisfied: seaborn>=0.11.0 in d:\\github\\yolov8\\lib\\site-packages (from ultralytics) (0.13.2)\n",
      "Requirement already satisfied: ultralytics-thop>=2.0.0 in d:\\github\\yolov8\\lib\\site-packages (from ultralytics) (2.0.14)\n",
      "Requirement already satisfied: contourpy>=1.0.1 in d:\\github\\yolov8\\lib\\site-packages (from matplotlib>=3.3.0->ultralytics) (1.3.1)\n",
      "Requirement already satisfied: cycler>=0.10 in d:\\github\\yolov8\\lib\\site-packages (from matplotlib>=3.3.0->ultralytics) (0.12.1)\n",
      "Requirement already satisfied: fonttools>=4.22.0 in d:\\github\\yolov8\\lib\\site-packages (from matplotlib>=3.3.0->ultralytics) (4.56.0)\n",
      "Requirement already satisfied: kiwisolver>=1.3.1 in d:\\github\\yolov8\\lib\\site-packages (from matplotlib>=3.3.0->ultralytics) (1.4.8)\n",
      "Requirement already satisfied: packaging>=20.0 in d:\\github\\yolov8\\lib\\site-packages (from matplotlib>=3.3.0->ultralytics) (24.2)\n",
      "Requirement already satisfied: pyparsing>=2.3.1 in d:\\github\\yolov8\\lib\\site-packages (from matplotlib>=3.3.0->ultralytics) (3.2.1)\n",
      "Requirement already satisfied: python-dateutil>=2.7 in d:\\github\\yolov8\\lib\\site-packages (from matplotlib>=3.3.0->ultralytics) (2.9.0.post0)\n",
      "Requirement already satisfied: pytz>=2020.1 in d:\\github\\yolov8\\lib\\site-packages (from pandas>=1.1.4->ultralytics) (2025.1)\n",
      "Requirement already satisfied: tzdata>=2022.7 in d:\\github\\yolov8\\lib\\site-packages (from pandas>=1.1.4->ultralytics) (2025.1)\n",
      "Requirement already satisfied: charset-normalizer<4,>=2 in d:\\github\\yolov8\\lib\\site-packages (from requests>=2.23.0->ultralytics) (3.4.1)\n",
      "Requirement already satisfied: idna<4,>=2.5 in d:\\github\\yolov8\\lib\\site-packages (from requests>=2.23.0->ultralytics) (3.10)\n",
      "Requirement already satisfied: urllib3<3,>=1.21.1 in d:\\github\\yolov8\\lib\\site-packages (from requests>=2.23.0->ultralytics) (2.3.0)\n",
      "Requirement already satisfied: certifi>=2017.4.17 in d:\\github\\yolov8\\lib\\site-packages (from requests>=2.23.0->ultralytics) (2025.1.31)\n",
      "Requirement already satisfied: filelock in d:\\github\\yolov8\\lib\\site-packages (from torch>=1.8.0->ultralytics) (3.17.0)\n",
      "Requirement already satisfied: typing-extensions>=4.10.0 in d:\\github\\yolov8\\lib\\site-packages (from torch>=1.8.0->ultralytics) (4.12.2)\n",
      "Requirement already satisfied: networkx in d:\\github\\yolov8\\lib\\site-packages (from torch>=1.8.0->ultralytics) (3.4.2)\n",
      "Requirement already satisfied: jinja2 in d:\\github\\yolov8\\lib\\site-packages (from torch>=1.8.0->ultralytics) (3.1.5)\n",
      "Requirement already satisfied: fsspec in d:\\github\\yolov8\\lib\\site-packages (from torch>=1.8.0->ultralytics) (2025.2.0)\n",
      "Requirement already satisfied: sympy==1.13.1 in d:\\github\\yolov8\\lib\\site-packages (from torch>=1.8.0->ultralytics) (1.13.1)\n",
      "Requirement already satisfied: mpmath<1.4,>=1.1.0 in d:\\github\\yolov8\\lib\\site-packages (from sympy==1.13.1->torch>=1.8.0->ultralytics) (1.3.0)\n",
      "Requirement already satisfied: colorama in d:\\github\\yolov8\\lib\\site-packages (from tqdm>=4.64.0->ultralytics) (0.4.6)\n",
      "Requirement already satisfied: six>=1.5 in d:\\github\\yolov8\\lib\\site-packages (from python-dateutil>=2.7->matplotlib>=3.3.0->ultralytics) (1.17.0)\n",
      "Requirement already satisfied: MarkupSafe>=2.0 in d:\\github\\yolov8\\lib\\site-packages (from jinja2->torch>=1.8.0->ultralytics) (3.0.2)\n"
     ]
    },
    {
     "name": "stderr",
     "output_type": "stream",
     "text": [
      "\n",
      "[notice] A new release of pip is available: 24.0 -> 25.0.1\n",
      "[notice] To update, run: python.exe -m pip install --upgrade pip\n"
     ]
    },
    {
     "name": "stdout",
     "output_type": "stream",
     "text": [
      "Requirement already satisfied: openpyxl in d:\\github\\yolov8\\lib\\site-packages (3.1.5)\n",
      "Requirement already satisfied: et-xmlfile in d:\\github\\yolov8\\lib\\site-packages (from openpyxl) (2.0.0)\n"
     ]
    },
    {
     "name": "stderr",
     "output_type": "stream",
     "text": [
      "\n",
      "[notice] A new release of pip is available: 24.0 -> 25.0.1\n",
      "[notice] To update, run: python.exe -m pip install --upgrade pip\n"
     ]
    }
   ],
   "source": [
    "!pip install pandas\n",
    "!pip install ultralytics\n",
    "!pip install openpyxl"
   ]
  },
  {
   "cell_type": "code",
   "execution_count": 2,
   "metadata": {},
   "outputs": [],
   "source": [
    "from ultralytics import YOLO\n",
    "import pandas as pd\n",
    "import os"
   ]
  },
  {
   "cell_type": "markdown",
   "metadata": {},
   "source": [
    "# Yolo를 부르는법"
   ]
  },
  {
   "cell_type": "code",
   "execution_count": 3,
   "metadata": {},
   "outputs": [
    {
     "name": "stdout",
     "output_type": "stream",
     "text": [
      "\n",
      "image 1/1 d:\\GitHub\\Yolov8\\detect\\img\\img.jpg: 608x640 10 persons, 136.4ms\n",
      "Speed: 5.7ms preprocess, 136.4ms inference, 7.9ms postprocess per image at shape (1, 3, 608, 640)\n"
     ]
    },
    {
     "data": {
      "text/plain": [
       "[ultralytics.engine.results.Results object with attributes:\n",
       " \n",
       " boxes: ultralytics.engine.results.Boxes object\n",
       " keypoints: None\n",
       " masks: None\n",
       " names: {0: 'person', 1: 'bicycle', 2: 'car', 3: 'motorcycle', 4: 'airplane', 5: 'bus', 6: 'train', 7: 'truck', 8: 'boat', 9: 'traffic light', 10: 'fire hydrant', 11: 'stop sign', 12: 'parking meter', 13: 'bench', 14: 'bird', 15: 'cat', 16: 'dog', 17: 'horse', 18: 'sheep', 19: 'cow', 20: 'elephant', 21: 'bear', 22: 'zebra', 23: 'giraffe', 24: 'backpack', 25: 'umbrella', 26: 'handbag', 27: 'tie', 28: 'suitcase', 29: 'frisbee', 30: 'skis', 31: 'snowboard', 32: 'sports ball', 33: 'kite', 34: 'baseball bat', 35: 'baseball glove', 36: 'skateboard', 37: 'surfboard', 38: 'tennis racket', 39: 'bottle', 40: 'wine glass', 41: 'cup', 42: 'fork', 43: 'knife', 44: 'spoon', 45: 'bowl', 46: 'banana', 47: 'apple', 48: 'sandwich', 49: 'orange', 50: 'broccoli', 51: 'carrot', 52: 'hot dog', 53: 'pizza', 54: 'donut', 55: 'cake', 56: 'chair', 57: 'couch', 58: 'potted plant', 59: 'bed', 60: 'dining table', 61: 'toilet', 62: 'tv', 63: 'laptop', 64: 'mouse', 65: 'remote', 66: 'keyboard', 67: 'cell phone', 68: 'microwave', 69: 'oven', 70: 'toaster', 71: 'sink', 72: 'refrigerator', 73: 'book', 74: 'clock', 75: 'vase', 76: 'scissors', 77: 'teddy bear', 78: 'hair drier', 79: 'toothbrush'}\n",
       " obb: None\n",
       " orig_img: array([[[20, 21, 11],\n",
       "         [20, 21, 11],\n",
       "         [20, 21, 11],\n",
       "         ...,\n",
       "         [33, 33, 27],\n",
       "         [33, 33, 27],\n",
       "         [33, 33, 27]],\n",
       " \n",
       "        [[20, 21, 11],\n",
       "         [20, 21, 11],\n",
       "         [20, 21, 11],\n",
       "         ...,\n",
       "         [33, 33, 27],\n",
       "         [33, 33, 27],\n",
       "         [33, 33, 27]],\n",
       " \n",
       "        [[20, 21, 11],\n",
       "         [20, 21, 11],\n",
       "         [20, 21, 11],\n",
       "         ...,\n",
       "         [33, 33, 27],\n",
       "         [33, 33, 27],\n",
       "         [33, 33, 27]],\n",
       " \n",
       "        ...,\n",
       " \n",
       "        [[27, 29, 30],\n",
       "         [27, 29, 30],\n",
       "         [27, 29, 30],\n",
       "         ...,\n",
       "         [19, 17, 17],\n",
       "         [19, 17, 17],\n",
       "         [20, 18, 18]],\n",
       " \n",
       "        [[27, 29, 30],\n",
       "         [27, 29, 30],\n",
       "         [27, 29, 30],\n",
       "         ...,\n",
       "         [18, 16, 16],\n",
       "         [19, 17, 17],\n",
       "         [19, 17, 17]],\n",
       " \n",
       "        [[27, 29, 30],\n",
       "         [27, 29, 30],\n",
       "         [27, 29, 30],\n",
       "         ...,\n",
       "         [18, 16, 16],\n",
       "         [18, 16, 16],\n",
       "         [19, 17, 17]]], dtype=uint8)\n",
       " orig_shape: (1196, 1276)\n",
       " path: 'd:\\\\GitHub\\\\Yolov8\\\\detect\\\\img\\\\img.jpg'\n",
       " probs: None\n",
       " save_dir: 'runs\\\\detect\\\\predict2'\n",
       " speed: {'preprocess': 5.682600000000093, 'inference': 136.4121999940835, 'postprocess': 7.877500000176951}]"
      ]
     },
     "execution_count": 3,
     "metadata": {},
     "output_type": "execute_result"
    }
   ],
   "source": [
    "model=YOLO()\n",
    "model.predict('img\\img.jpg')"
   ]
  },
  {
   "cell_type": "markdown",
   "metadata": {},
   "source": [
    "# Yolo 예측하기"
   ]
  },
  {
   "cell_type": "code",
   "execution_count": 4,
   "metadata": {},
   "outputs": [
    {
     "name": "stdout",
     "output_type": "stream",
     "text": [
      "\n",
      "image 1/1 d:\\GitHub\\Yolov8\\detect\\img\\img.jpg: 608x640 10 persons, 91.2ms\n",
      "Speed: 3.1ms preprocess, 91.2ms inference, 0.9ms postprocess per image at shape (1, 3, 608, 640)\n",
      "Results saved to \u001b[1mruns\\detect\\predict2\u001b[0m\n"
     ]
    },
    {
     "data": {
      "text/plain": [
       "[ultralytics.engine.results.Results object with attributes:\n",
       " \n",
       " boxes: ultralytics.engine.results.Boxes object\n",
       " keypoints: None\n",
       " masks: None\n",
       " names: {0: 'person', 1: 'bicycle', 2: 'car', 3: 'motorcycle', 4: 'airplane', 5: 'bus', 6: 'train', 7: 'truck', 8: 'boat', 9: 'traffic light', 10: 'fire hydrant', 11: 'stop sign', 12: 'parking meter', 13: 'bench', 14: 'bird', 15: 'cat', 16: 'dog', 17: 'horse', 18: 'sheep', 19: 'cow', 20: 'elephant', 21: 'bear', 22: 'zebra', 23: 'giraffe', 24: 'backpack', 25: 'umbrella', 26: 'handbag', 27: 'tie', 28: 'suitcase', 29: 'frisbee', 30: 'skis', 31: 'snowboard', 32: 'sports ball', 33: 'kite', 34: 'baseball bat', 35: 'baseball glove', 36: 'skateboard', 37: 'surfboard', 38: 'tennis racket', 39: 'bottle', 40: 'wine glass', 41: 'cup', 42: 'fork', 43: 'knife', 44: 'spoon', 45: 'bowl', 46: 'banana', 47: 'apple', 48: 'sandwich', 49: 'orange', 50: 'broccoli', 51: 'carrot', 52: 'hot dog', 53: 'pizza', 54: 'donut', 55: 'cake', 56: 'chair', 57: 'couch', 58: 'potted plant', 59: 'bed', 60: 'dining table', 61: 'toilet', 62: 'tv', 63: 'laptop', 64: 'mouse', 65: 'remote', 66: 'keyboard', 67: 'cell phone', 68: 'microwave', 69: 'oven', 70: 'toaster', 71: 'sink', 72: 'refrigerator', 73: 'book', 74: 'clock', 75: 'vase', 76: 'scissors', 77: 'teddy bear', 78: 'hair drier', 79: 'toothbrush'}\n",
       " obb: None\n",
       " orig_img: array([[[20, 21, 11],\n",
       "         [20, 21, 11],\n",
       "         [20, 21, 11],\n",
       "         ...,\n",
       "         [33, 33, 27],\n",
       "         [33, 33, 27],\n",
       "         [33, 33, 27]],\n",
       " \n",
       "        [[20, 21, 11],\n",
       "         [20, 21, 11],\n",
       "         [20, 21, 11],\n",
       "         ...,\n",
       "         [33, 33, 27],\n",
       "         [33, 33, 27],\n",
       "         [33, 33, 27]],\n",
       " \n",
       "        [[20, 21, 11],\n",
       "         [20, 21, 11],\n",
       "         [20, 21, 11],\n",
       "         ...,\n",
       "         [33, 33, 27],\n",
       "         [33, 33, 27],\n",
       "         [33, 33, 27]],\n",
       " \n",
       "        ...,\n",
       " \n",
       "        [[27, 29, 30],\n",
       "         [27, 29, 30],\n",
       "         [27, 29, 30],\n",
       "         ...,\n",
       "         [19, 17, 17],\n",
       "         [19, 17, 17],\n",
       "         [20, 18, 18]],\n",
       " \n",
       "        [[27, 29, 30],\n",
       "         [27, 29, 30],\n",
       "         [27, 29, 30],\n",
       "         ...,\n",
       "         [18, 16, 16],\n",
       "         [19, 17, 17],\n",
       "         [19, 17, 17]],\n",
       " \n",
       "        [[27, 29, 30],\n",
       "         [27, 29, 30],\n",
       "         [27, 29, 30],\n",
       "         ...,\n",
       "         [18, 16, 16],\n",
       "         [18, 16, 16],\n",
       "         [19, 17, 17]]], dtype=uint8)\n",
       " orig_shape: (1196, 1276)\n",
       " path: 'd:\\\\GitHub\\\\Yolov8\\\\detect\\\\img\\\\img.jpg'\n",
       " probs: None\n",
       " save_dir: 'runs\\\\detect\\\\predict2'\n",
       " speed: {'preprocess': 3.074499996728264, 'inference': 91.18339999986347, 'postprocess': 0.8688000016263686}]"
      ]
     },
     "execution_count": 4,
     "metadata": {},
     "output_type": "execute_result"
    }
   ],
   "source": [
    "model.predict('img\\img.jpg',save=True)"
   ]
  },
  {
   "cell_type": "code",
   "execution_count": 3,
   "metadata": {},
   "outputs": [
    {
     "name": "stdout",
     "output_type": "stream",
     "text": [
      "\n",
      "image 1/1 d:\\GitHub\\Yolov8\\detect\\img\\img.jpg: 608x640 10 persons, 153.1ms\n",
      "Speed: 8.7ms preprocess, 153.1ms inference, 1.5ms postprocess per image at shape (1, 3, 608, 640)\n"
     ]
    },
    {
     "data": {
      "text/plain": [
       "[ultralytics.engine.results.Results object with attributes:\n",
       " \n",
       " boxes: ultralytics.engine.results.Boxes object\n",
       " keypoints: None\n",
       " masks: None\n",
       " names: {0: 'person', 1: 'bicycle', 2: 'car', 3: 'motorcycle', 4: 'airplane', 5: 'bus', 6: 'train', 7: 'truck', 8: 'boat', 9: 'traffic light', 10: 'fire hydrant', 11: 'stop sign', 12: 'parking meter', 13: 'bench', 14: 'bird', 15: 'cat', 16: 'dog', 17: 'horse', 18: 'sheep', 19: 'cow', 20: 'elephant', 21: 'bear', 22: 'zebra', 23: 'giraffe', 24: 'backpack', 25: 'umbrella', 26: 'handbag', 27: 'tie', 28: 'suitcase', 29: 'frisbee', 30: 'skis', 31: 'snowboard', 32: 'sports ball', 33: 'kite', 34: 'baseball bat', 35: 'baseball glove', 36: 'skateboard', 37: 'surfboard', 38: 'tennis racket', 39: 'bottle', 40: 'wine glass', 41: 'cup', 42: 'fork', 43: 'knife', 44: 'spoon', 45: 'bowl', 46: 'banana', 47: 'apple', 48: 'sandwich', 49: 'orange', 50: 'broccoli', 51: 'carrot', 52: 'hot dog', 53: 'pizza', 54: 'donut', 55: 'cake', 56: 'chair', 57: 'couch', 58: 'potted plant', 59: 'bed', 60: 'dining table', 61: 'toilet', 62: 'tv', 63: 'laptop', 64: 'mouse', 65: 'remote', 66: 'keyboard', 67: 'cell phone', 68: 'microwave', 69: 'oven', 70: 'toaster', 71: 'sink', 72: 'refrigerator', 73: 'book', 74: 'clock', 75: 'vase', 76: 'scissors', 77: 'teddy bear', 78: 'hair drier', 79: 'toothbrush'}\n",
       " obb: None\n",
       " orig_img: array([[[20, 21, 11],\n",
       "         [20, 21, 11],\n",
       "         [20, 21, 11],\n",
       "         ...,\n",
       "         [33, 33, 27],\n",
       "         [33, 33, 27],\n",
       "         [33, 33, 27]],\n",
       " \n",
       "        [[20, 21, 11],\n",
       "         [20, 21, 11],\n",
       "         [20, 21, 11],\n",
       "         ...,\n",
       "         [33, 33, 27],\n",
       "         [33, 33, 27],\n",
       "         [33, 33, 27]],\n",
       " \n",
       "        [[20, 21, 11],\n",
       "         [20, 21, 11],\n",
       "         [20, 21, 11],\n",
       "         ...,\n",
       "         [33, 33, 27],\n",
       "         [33, 33, 27],\n",
       "         [33, 33, 27]],\n",
       " \n",
       "        ...,\n",
       " \n",
       "        [[27, 29, 30],\n",
       "         [27, 29, 30],\n",
       "         [27, 29, 30],\n",
       "         ...,\n",
       "         [19, 17, 17],\n",
       "         [19, 17, 17],\n",
       "         [20, 18, 18]],\n",
       " \n",
       "        [[27, 29, 30],\n",
       "         [27, 29, 30],\n",
       "         [27, 29, 30],\n",
       "         ...,\n",
       "         [18, 16, 16],\n",
       "         [19, 17, 17],\n",
       "         [19, 17, 17]],\n",
       " \n",
       "        [[27, 29, 30],\n",
       "         [27, 29, 30],\n",
       "         [27, 29, 30],\n",
       "         ...,\n",
       "         [18, 16, 16],\n",
       "         [18, 16, 16],\n",
       "         [19, 17, 17]]], dtype=uint8)\n",
       " orig_shape: (1196, 1276)\n",
       " path: 'd:\\\\GitHub\\\\Yolov8\\\\detect\\\\img\\\\img.jpg'\n",
       " probs: None\n",
       " save_dir: 'runs\\\\detect\\\\predict2'\n",
       " speed: {'preprocess': 8.669599999848288, 'inference': 153.0657000002975, 'postprocess': 1.4854999972158112}]"
      ]
     },
     "execution_count": 3,
     "metadata": {},
     "output_type": "execute_result"
    }
   ],
   "source": [
    "result=model.predict('img\\img.jpg')\n",
    "result"
   ]
  },
  {
   "cell_type": "code",
   "execution_count": 7,
   "metadata": {},
   "outputs": [
    {
     "data": {
      "text/plain": [
       "ultralytics.engine.results.Results object with attributes:\n",
       "\n",
       "boxes: ultralytics.engine.results.Boxes object\n",
       "keypoints: None\n",
       "masks: None\n",
       "names: {0: 'person', 1: 'bicycle', 2: 'car', 3: 'motorcycle', 4: 'airplane', 5: 'bus', 6: 'train', 7: 'truck', 8: 'boat', 9: 'traffic light', 10: 'fire hydrant', 11: 'stop sign', 12: 'parking meter', 13: 'bench', 14: 'bird', 15: 'cat', 16: 'dog', 17: 'horse', 18: 'sheep', 19: 'cow', 20: 'elephant', 21: 'bear', 22: 'zebra', 23: 'giraffe', 24: 'backpack', 25: 'umbrella', 26: 'handbag', 27: 'tie', 28: 'suitcase', 29: 'frisbee', 30: 'skis', 31: 'snowboard', 32: 'sports ball', 33: 'kite', 34: 'baseball bat', 35: 'baseball glove', 36: 'skateboard', 37: 'surfboard', 38: 'tennis racket', 39: 'bottle', 40: 'wine glass', 41: 'cup', 42: 'fork', 43: 'knife', 44: 'spoon', 45: 'bowl', 46: 'banana', 47: 'apple', 48: 'sandwich', 49: 'orange', 50: 'broccoli', 51: 'carrot', 52: 'hot dog', 53: 'pizza', 54: 'donut', 55: 'cake', 56: 'chair', 57: 'couch', 58: 'potted plant', 59: 'bed', 60: 'dining table', 61: 'toilet', 62: 'tv', 63: 'laptop', 64: 'mouse', 65: 'remote', 66: 'keyboard', 67: 'cell phone', 68: 'microwave', 69: 'oven', 70: 'toaster', 71: 'sink', 72: 'refrigerator', 73: 'book', 74: 'clock', 75: 'vase', 76: 'scissors', 77: 'teddy bear', 78: 'hair drier', 79: 'toothbrush'}\n",
       "obb: None\n",
       "orig_img: array([[[20, 21, 11],\n",
       "        [20, 21, 11],\n",
       "        [20, 21, 11],\n",
       "        ...,\n",
       "        [33, 33, 27],\n",
       "        [33, 33, 27],\n",
       "        [33, 33, 27]],\n",
       "\n",
       "       [[20, 21, 11],\n",
       "        [20, 21, 11],\n",
       "        [20, 21, 11],\n",
       "        ...,\n",
       "        [33, 33, 27],\n",
       "        [33, 33, 27],\n",
       "        [33, 33, 27]],\n",
       "\n",
       "       [[20, 21, 11],\n",
       "        [20, 21, 11],\n",
       "        [20, 21, 11],\n",
       "        ...,\n",
       "        [33, 33, 27],\n",
       "        [33, 33, 27],\n",
       "        [33, 33, 27]],\n",
       "\n",
       "       ...,\n",
       "\n",
       "       [[27, 29, 30],\n",
       "        [27, 29, 30],\n",
       "        [27, 29, 30],\n",
       "        ...,\n",
       "        [19, 17, 17],\n",
       "        [19, 17, 17],\n",
       "        [20, 18, 18]],\n",
       "\n",
       "       [[27, 29, 30],\n",
       "        [27, 29, 30],\n",
       "        [27, 29, 30],\n",
       "        ...,\n",
       "        [18, 16, 16],\n",
       "        [19, 17, 17],\n",
       "        [19, 17, 17]],\n",
       "\n",
       "       [[27, 29, 30],\n",
       "        [27, 29, 30],\n",
       "        [27, 29, 30],\n",
       "        ...,\n",
       "        [18, 16, 16],\n",
       "        [18, 16, 16],\n",
       "        [19, 17, 17]]], dtype=uint8)\n",
       "orig_shape: (1196, 1276)\n",
       "path: 'd:\\\\GitHub\\\\Yolov8\\\\detect\\\\img\\\\img.jpg'\n",
       "probs: None\n",
       "save_dir: 'runs\\\\detect\\\\predict2'\n",
       "speed: {'preprocess': 8.669599999848288, 'inference': 153.0657000002975, 'postprocess': 1.4854999972158112}"
      ]
     },
     "execution_count": 7,
     "metadata": {},
     "output_type": "execute_result"
    }
   ],
   "source": [
    "result=result[0]\n",
    "result"
   ]
  },
  {
   "cell_type": "code",
   "execution_count": 13,
   "metadata": {},
   "outputs": [
    {
     "data": {
      "text/plain": [
       "ultralytics.engine.results.Boxes object with attributes:\n",
       "\n",
       "cls: tensor([0., 0., 0., 0., 0., 0., 0., 0., 0., 0.])\n",
       "conf: tensor([0.9373, 0.9168, 0.9045, 0.8898, 0.8857, 0.8522, 0.8273, 0.8257, 0.6037, 0.6022])\n",
       "data: tensor([[9.5639e+02, 6.3733e+00, 1.2751e+03, 3.9475e+02, 9.3727e-01, 0.0000e+00],\n",
       "        [4.8773e-01, 5.9597e+00, 3.2042e+02, 3.9324e+02, 9.1679e-01, 0.0000e+00],\n",
       "        [3.2647e+02, 5.7630e+00, 6.3799e+02, 3.9507e+02, 9.0451e-01, 0.0000e+00],\n",
       "        [6.3067e+02, 5.0023e+00, 9.5725e+02, 3.9340e+02, 8.8978e-01, 0.0000e+00],\n",
       "        [9.5715e+02, 8.1493e+02, 1.2748e+03, 1.1908e+03, 8.8569e-01, 0.0000e+00],\n",
       "        [3.7827e+02, 8.1468e+02, 5.9914e+02, 1.1873e+03, 8.5217e-01, 0.0000e+00],\n",
       "        [9.8496e+02, 4.1631e+02, 1.2513e+03, 7.9353e+02, 8.2734e-01, 0.0000e+00],\n",
       "        [4.5490e+01, 8.0906e+02, 2.7414e+02, 1.1923e+03, 8.2572e-01, 0.0000e+00],\n",
       "        [7.7836e+01, 4.2611e+02, 2.6825e+02, 7.6559e+02, 6.0375e-01, 0.0000e+00],\n",
       "        [6.4393e+02, 8.0759e+02, 9.5282e+02, 1.1927e+03, 6.0220e-01, 0.0000e+00]])\n",
       "id: None\n",
       "is_track: False\n",
       "orig_shape: (1196, 1276)\n",
       "shape: torch.Size([10, 6])\n",
       "xywh: tensor([[1115.7462,  200.5620,  318.7214,  388.3774],\n",
       "        [ 160.4557,  199.6010,  319.9359,  387.2825],\n",
       "        [ 482.2280,  200.4149,  311.5188,  389.3040],\n",
       "        [ 793.9568,  199.2027,  326.5836,  388.4008],\n",
       "        [1115.9977, 1002.8760,  317.6889,  375.8973],\n",
       "        [ 488.7066, 1000.9966,  220.8670,  372.6251],\n",
       "        [1118.1522,  604.9197,  266.3906,  377.2112],\n",
       "        [ 159.8148, 1000.6985,  228.6502,  383.2827],\n",
       "        [ 173.0415,  595.8501,  190.4112,  339.4724],\n",
       "        [ 798.3729, 1000.1661,  308.8935,  385.1511]])\n",
       "xywhn: tensor([[0.8744, 0.1677, 0.2498, 0.3247],\n",
       "        [0.1257, 0.1669, 0.2507, 0.3238],\n",
       "        [0.3779, 0.1676, 0.2441, 0.3255],\n",
       "        [0.6222, 0.1666, 0.2559, 0.3247],\n",
       "        [0.8746, 0.8385, 0.2490, 0.3143],\n",
       "        [0.3830, 0.8370, 0.1731, 0.3116],\n",
       "        [0.8763, 0.5058, 0.2088, 0.3154],\n",
       "        [0.1252, 0.8367, 0.1792, 0.3205],\n",
       "        [0.1356, 0.4982, 0.1492, 0.2838],\n",
       "        [0.6257, 0.8363, 0.2421, 0.3220]])\n",
       "xyxy: tensor([[9.5639e+02, 6.3733e+00, 1.2751e+03, 3.9475e+02],\n",
       "        [4.8773e-01, 5.9597e+00, 3.2042e+02, 3.9324e+02],\n",
       "        [3.2647e+02, 5.7630e+00, 6.3799e+02, 3.9507e+02],\n",
       "        [6.3067e+02, 5.0023e+00, 9.5725e+02, 3.9340e+02],\n",
       "        [9.5715e+02, 8.1493e+02, 1.2748e+03, 1.1908e+03],\n",
       "        [3.7827e+02, 8.1468e+02, 5.9914e+02, 1.1873e+03],\n",
       "        [9.8496e+02, 4.1631e+02, 1.2513e+03, 7.9353e+02],\n",
       "        [4.5490e+01, 8.0906e+02, 2.7414e+02, 1.1923e+03],\n",
       "        [7.7836e+01, 4.2611e+02, 2.6825e+02, 7.6559e+02],\n",
       "        [6.4393e+02, 8.0759e+02, 9.5282e+02, 1.1927e+03]])\n",
       "xyxyn: tensor([[7.4952e-01, 5.3288e-03, 9.9930e-01, 3.3006e-01],\n",
       "        [3.8223e-04, 4.9831e-03, 2.5112e-01, 3.2880e-01],\n",
       "        [2.5585e-01, 4.8185e-03, 4.9999e-01, 3.3032e-01],\n",
       "        [4.9425e-01, 4.1825e-03, 7.5019e-01, 3.2893e-01],\n",
       "        [7.5012e-01, 6.8138e-01, 9.9909e-01, 9.9567e-01],\n",
       "        [2.9645e-01, 6.8117e-01, 4.6955e-01, 9.9273e-01],\n",
       "        [7.7191e-01, 3.4809e-01, 9.8068e-01, 6.6348e-01],\n",
       "        [3.5650e-02, 6.7647e-01, 2.1484e-01, 9.9694e-01],\n",
       "        [6.1000e-02, 3.5628e-01, 2.1023e-01, 6.4012e-01],\n",
       "        [5.0464e-01, 6.7524e-01, 7.4672e-01, 9.9728e-01]])"
      ]
     },
     "execution_count": 13,
     "metadata": {},
     "output_type": "execute_result"
    }
   ],
   "source": [
    "boxes=result.boxes\n",
    "boxes"
   ]
  },
  {
   "cell_type": "markdown",
   "metadata": {},
   "source": [
    "# cls는 탐지된 객체의 번호다"
   ]
  },
  {
   "cell_type": "code",
   "execution_count": 14,
   "metadata": {},
   "outputs": [
    {
     "data": {
      "text/plain": [
       "tensor([0., 0., 0., 0., 0., 0., 0., 0., 0., 0.])"
      ]
     },
     "execution_count": 14,
     "metadata": {},
     "output_type": "execute_result"
    }
   ],
   "source": [
    "boxes.cls"
   ]
  },
  {
   "cell_type": "markdown",
   "metadata": {},
   "source": [
    "# 확률"
   ]
  },
  {
   "cell_type": "code",
   "execution_count": 17,
   "metadata": {},
   "outputs": [
    {
     "data": {
      "text/plain": [
       "tensor([0.9373, 0.9168, 0.9045, 0.8898, 0.8857, 0.8522, 0.8273, 0.8257, 0.6037, 0.6022])"
      ]
     },
     "execution_count": 17,
     "metadata": {},
     "output_type": "execute_result"
    }
   ],
   "source": [
    "boxes.conf"
   ]
  },
  {
   "cell_type": "markdown",
   "metadata": {},
   "source": [
    "# 박스친 위치"
   ]
  },
  {
   "cell_type": "code",
   "execution_count": 18,
   "metadata": {},
   "outputs": [
    {
     "data": {
      "text/plain": [
       "tensor([[9.5639e+02, 6.3733e+00, 1.2751e+03, 3.9475e+02],\n",
       "        [4.8773e-01, 5.9597e+00, 3.2042e+02, 3.9324e+02],\n",
       "        [3.2647e+02, 5.7630e+00, 6.3799e+02, 3.9507e+02],\n",
       "        [6.3067e+02, 5.0023e+00, 9.5725e+02, 3.9340e+02],\n",
       "        [9.5715e+02, 8.1493e+02, 1.2748e+03, 1.1908e+03],\n",
       "        [3.7827e+02, 8.1468e+02, 5.9914e+02, 1.1873e+03],\n",
       "        [9.8496e+02, 4.1631e+02, 1.2513e+03, 7.9353e+02],\n",
       "        [4.5490e+01, 8.0906e+02, 2.7414e+02, 1.1923e+03],\n",
       "        [7.7836e+01, 4.2611e+02, 2.6825e+02, 7.6559e+02],\n",
       "        [6.4393e+02, 8.0759e+02, 9.5282e+02, 1.1927e+03]])"
      ]
     },
     "execution_count": 18,
     "metadata": {},
     "output_type": "execute_result"
    }
   ],
   "source": [
    "boxes.xyxy"
   ]
  },
  {
   "cell_type": "markdown",
   "metadata": {},
   "source": [
    "# 내가 만든 함수"
   ]
  },
  {
   "cell_type": "code",
   "execution_count": 19,
   "metadata": {},
   "outputs": [],
   "source": [
    "# 엑셀표로 변환\n",
    "def PredictToPandas(img_path, model,save_path=None):\n",
    "    result = model.predict(img_path)\n",
    "    if not result:\n",
    "        return pd.DataFrame(columns=[\"xmin\", \"ymin\", \"xmax\", \"ymax\", \"conf\", \"cls\", \"name\"])\n",
    "    \n",
    "    boxes = result[0].boxes\n",
    "    xyxy = boxes.xyxy.cpu().numpy()\n",
    "    cls = boxes.cls.cpu().numpy()\n",
    "    conf = boxes.conf.cpu().numpy()\n",
    "    df=pd.DataFrame({\n",
    "        \"xmin\": xyxy[:, 0],\n",
    "        \"ymin\": xyxy[:, 1],\n",
    "        \"xmax\": xyxy[:, 2],\n",
    "        \"ymax\": xyxy[:, 3],\n",
    "        \"conf\": conf,\n",
    "        \"cls\": cls,\n",
    "        \"name\": [model.names[int(i)] for i in cls]\n",
    "    })\n",
    "    \n",
    "    if save_path:\n",
    "        os.makedirs('result', exist_ok=True)\n",
    "        save_path=os.path.join('result', save_path)\n",
    "        if save_path.endswith(\".csv\"):\n",
    "            df.to_csv(save_path, index=False)\n",
    "        elif save_path.endswith(\".json\"):\n",
    "            df.to_json(save_path, orient=\"records\", indent=4)\n",
    "        elif save_path.endswith(\".xlsx\"):\n",
    "            df.to_excel(save_path, index=False)\n",
    "        else:\n",
    "            print(\"Unsupported file format. Use .csv, .json, or .xlsx\")\n",
    "    return df"
   ]
  },
  {
   "cell_type": "code",
   "execution_count": 20,
   "metadata": {},
   "outputs": [
    {
     "name": "stdout",
     "output_type": "stream",
     "text": [
      "\n",
      "image 1/1 d:\\GitHub\\Yolov8\\detect\\img\\muder.jpg: 640x640 1 person, 1 scissors, 155.7ms\n",
      "Speed: 9.5ms preprocess, 155.7ms inference, 1.5ms postprocess per image at shape (1, 3, 640, 640)\n"
     ]
    },
    {
     "data": {
      "text/html": [
       "<div>\n",
       "<style scoped>\n",
       "    .dataframe tbody tr th:only-of-type {\n",
       "        vertical-align: middle;\n",
       "    }\n",
       "\n",
       "    .dataframe tbody tr th {\n",
       "        vertical-align: top;\n",
       "    }\n",
       "\n",
       "    .dataframe thead th {\n",
       "        text-align: right;\n",
       "    }\n",
       "</style>\n",
       "<table border=\"1\" class=\"dataframe\">\n",
       "  <thead>\n",
       "    <tr style=\"text-align: right;\">\n",
       "      <th></th>\n",
       "      <th>xmin</th>\n",
       "      <th>ymin</th>\n",
       "      <th>xmax</th>\n",
       "      <th>ymax</th>\n",
       "      <th>conf</th>\n",
       "      <th>cls</th>\n",
       "      <th>name</th>\n",
       "    </tr>\n",
       "  </thead>\n",
       "  <tbody>\n",
       "    <tr>\n",
       "      <th>0</th>\n",
       "      <td>298.764252</td>\n",
       "      <td>0.371289</td>\n",
       "      <td>1022.337219</td>\n",
       "      <td>994.979858</td>\n",
       "      <td>0.787023</td>\n",
       "      <td>0.0</td>\n",
       "      <td>person</td>\n",
       "    </tr>\n",
       "    <tr>\n",
       "      <th>1</th>\n",
       "      <td>308.218170</td>\n",
       "      <td>346.534485</td>\n",
       "      <td>756.365723</td>\n",
       "      <td>917.523315</td>\n",
       "      <td>0.429184</td>\n",
       "      <td>76.0</td>\n",
       "      <td>scissors</td>\n",
       "    </tr>\n",
       "  </tbody>\n",
       "</table>\n",
       "</div>"
      ],
      "text/plain": [
       "         xmin        ymin         xmax        ymax      conf   cls      name\n",
       "0  298.764252    0.371289  1022.337219  994.979858  0.787023   0.0    person\n",
       "1  308.218170  346.534485   756.365723  917.523315  0.429184  76.0  scissors"
      ]
     },
     "execution_count": 20,
     "metadata": {},
     "output_type": "execute_result"
    }
   ],
   "source": [
    "PredictToPandas('img\\muder.jpg',model)"
   ]
  },
  {
   "cell_type": "code",
   "execution_count": 21,
   "metadata": {},
   "outputs": [
    {
     "name": "stdout",
     "output_type": "stream",
     "text": [
      "\n",
      "image 1/1 d:\\GitHub\\Yolov8\\detect\\img\\muder1.jpg: 640x640 2 persons, 1 knife, 1 scissors, 175.8ms\n",
      "Speed: 7.1ms preprocess, 175.8ms inference, 1.5ms postprocess per image at shape (1, 3, 640, 640)\n"
     ]
    },
    {
     "data": {
      "text/html": [
       "<div>\n",
       "<style scoped>\n",
       "    .dataframe tbody tr th:only-of-type {\n",
       "        vertical-align: middle;\n",
       "    }\n",
       "\n",
       "    .dataframe tbody tr th {\n",
       "        vertical-align: top;\n",
       "    }\n",
       "\n",
       "    .dataframe thead th {\n",
       "        text-align: right;\n",
       "    }\n",
       "</style>\n",
       "<table border=\"1\" class=\"dataframe\">\n",
       "  <thead>\n",
       "    <tr style=\"text-align: right;\">\n",
       "      <th></th>\n",
       "      <th>xmin</th>\n",
       "      <th>ymin</th>\n",
       "      <th>xmax</th>\n",
       "      <th>ymax</th>\n",
       "      <th>conf</th>\n",
       "      <th>cls</th>\n",
       "      <th>name</th>\n",
       "    </tr>\n",
       "  </thead>\n",
       "  <tbody>\n",
       "    <tr>\n",
       "      <th>0</th>\n",
       "      <td>331.040039</td>\n",
       "      <td>0.019727</td>\n",
       "      <td>1022.281372</td>\n",
       "      <td>1020.177917</td>\n",
       "      <td>0.385402</td>\n",
       "      <td>0.0</td>\n",
       "      <td>person</td>\n",
       "    </tr>\n",
       "    <tr>\n",
       "      <th>1</th>\n",
       "      <td>408.363831</td>\n",
       "      <td>616.659058</td>\n",
       "      <td>437.935730</td>\n",
       "      <td>726.174683</td>\n",
       "      <td>0.345758</td>\n",
       "      <td>0.0</td>\n",
       "      <td>person</td>\n",
       "    </tr>\n",
       "    <tr>\n",
       "      <th>2</th>\n",
       "      <td>514.876343</td>\n",
       "      <td>548.515442</td>\n",
       "      <td>820.103821</td>\n",
       "      <td>885.892395</td>\n",
       "      <td>0.328198</td>\n",
       "      <td>43.0</td>\n",
       "      <td>knife</td>\n",
       "    </tr>\n",
       "    <tr>\n",
       "      <th>3</th>\n",
       "      <td>515.508911</td>\n",
       "      <td>554.779785</td>\n",
       "      <td>820.507141</td>\n",
       "      <td>886.628906</td>\n",
       "      <td>0.267664</td>\n",
       "      <td>76.0</td>\n",
       "      <td>scissors</td>\n",
       "    </tr>\n",
       "  </tbody>\n",
       "</table>\n",
       "</div>"
      ],
      "text/plain": [
       "         xmin        ymin         xmax         ymax      conf   cls      name\n",
       "0  331.040039    0.019727  1022.281372  1020.177917  0.385402   0.0    person\n",
       "1  408.363831  616.659058   437.935730   726.174683  0.345758   0.0    person\n",
       "2  514.876343  548.515442   820.103821   885.892395  0.328198  43.0     knife\n",
       "3  515.508911  554.779785   820.507141   886.628906  0.267664  76.0  scissors"
      ]
     },
     "execution_count": 21,
     "metadata": {},
     "output_type": "execute_result"
    }
   ],
   "source": [
    "df=PredictToPandas('img\\muder1.jpg',model)\n",
    "df"
   ]
  },
  {
   "cell_type": "code",
   "execution_count": 22,
   "metadata": {},
   "outputs": [
    {
     "data": {
      "text/html": [
       "<div>\n",
       "<style scoped>\n",
       "    .dataframe tbody tr th:only-of-type {\n",
       "        vertical-align: middle;\n",
       "    }\n",
       "\n",
       "    .dataframe tbody tr th {\n",
       "        vertical-align: top;\n",
       "    }\n",
       "\n",
       "    .dataframe thead th {\n",
       "        text-align: right;\n",
       "    }\n",
       "</style>\n",
       "<table border=\"1\" class=\"dataframe\">\n",
       "  <thead>\n",
       "    <tr style=\"text-align: right;\">\n",
       "      <th></th>\n",
       "      <th>xmin</th>\n",
       "      <th>ymin</th>\n",
       "      <th>xmax</th>\n",
       "      <th>ymax</th>\n",
       "      <th>conf</th>\n",
       "      <th>cls</th>\n",
       "      <th>name</th>\n",
       "    </tr>\n",
       "  </thead>\n",
       "  <tbody>\n",
       "    <tr>\n",
       "      <th>0</th>\n",
       "      <td>331.040039</td>\n",
       "      <td>0.019727</td>\n",
       "      <td>1022.281372</td>\n",
       "      <td>1020.177917</td>\n",
       "      <td>0.385402</td>\n",
       "      <td>0.0</td>\n",
       "      <td>person</td>\n",
       "    </tr>\n",
       "    <tr>\n",
       "      <th>1</th>\n",
       "      <td>408.363831</td>\n",
       "      <td>616.659058</td>\n",
       "      <td>437.935730</td>\n",
       "      <td>726.174683</td>\n",
       "      <td>0.345758</td>\n",
       "      <td>0.0</td>\n",
       "      <td>person</td>\n",
       "    </tr>\n",
       "    <tr>\n",
       "      <th>2</th>\n",
       "      <td>514.876343</td>\n",
       "      <td>548.515442</td>\n",
       "      <td>820.103821</td>\n",
       "      <td>885.892395</td>\n",
       "      <td>0.328198</td>\n",
       "      <td>43.0</td>\n",
       "      <td>knife</td>\n",
       "    </tr>\n",
       "  </tbody>\n",
       "</table>\n",
       "</div>"
      ],
      "text/plain": [
       "         xmin        ymin         xmax         ymax      conf   cls    name\n",
       "0  331.040039    0.019727  1022.281372  1020.177917  0.385402   0.0  person\n",
       "1  408.363831  616.659058   437.935730   726.174683  0.345758   0.0  person\n",
       "2  514.876343  548.515442   820.103821   885.892395  0.328198  43.0   knife"
      ]
     },
     "execution_count": 22,
     "metadata": {},
     "output_type": "execute_result"
    }
   ],
   "source": [
    "df[df['conf']>0.3]"
   ]
  },
  {
   "cell_type": "code",
   "execution_count": 12,
   "metadata": {},
   "outputs": [
    {
     "name": "stdout",
     "output_type": "stream",
     "text": [
      "\n",
      "image 1/1 d:\\GitHub\\Yolov8\\detect\\img\\muder1.jpg: 640x640 1 knife, 1 scissors, 126.0ms\n",
      "Speed: 7.8ms preprocess, 126.0ms inference, 1.7ms postprocess per image at shape (1, 3, 640, 640)\n"
     ]
    },
    {
     "data": {
      "text/plain": [
       "[ultralytics.engine.results.Results object with attributes:\n",
       " \n",
       " boxes: ultralytics.engine.results.Boxes object\n",
       " keypoints: None\n",
       " masks: None\n",
       " names: {0: 'person', 1: 'bicycle', 2: 'car', 3: 'motorcycle', 4: 'airplane', 5: 'bus', 6: 'train', 7: 'truck', 8: 'boat', 9: 'traffic light', 10: 'fire hydrant', 11: 'stop sign', 12: 'parking meter', 13: 'bench', 14: 'bird', 15: 'cat', 16: 'dog', 17: 'horse', 18: 'sheep', 19: 'cow', 20: 'elephant', 21: 'bear', 22: 'zebra', 23: 'giraffe', 24: 'backpack', 25: 'umbrella', 26: 'handbag', 27: 'tie', 28: 'suitcase', 29: 'frisbee', 30: 'skis', 31: 'snowboard', 32: 'sports ball', 33: 'kite', 34: 'baseball bat', 35: 'baseball glove', 36: 'skateboard', 37: 'surfboard', 38: 'tennis racket', 39: 'bottle', 40: 'wine glass', 41: 'cup', 42: 'fork', 43: 'knife', 44: 'spoon', 45: 'bowl', 46: 'banana', 47: 'apple', 48: 'sandwich', 49: 'orange', 50: 'broccoli', 51: 'carrot', 52: 'hot dog', 53: 'pizza', 54: 'donut', 55: 'cake', 56: 'chair', 57: 'couch', 58: 'potted plant', 59: 'bed', 60: 'dining table', 61: 'toilet', 62: 'tv', 63: 'laptop', 64: 'mouse', 65: 'remote', 66: 'keyboard', 67: 'cell phone', 68: 'microwave', 69: 'oven', 70: 'toaster', 71: 'sink', 72: 'refrigerator', 73: 'book', 74: 'clock', 75: 'vase', 76: 'scissors', 77: 'teddy bear', 78: 'hair drier', 79: 'toothbrush'}\n",
       " obb: None\n",
       " orig_img: array([[[10, 11, 13],\n",
       "         [10, 11, 13],\n",
       "         [10, 11, 13],\n",
       "         ...,\n",
       "         [10, 13, 17],\n",
       "         [14, 14, 21],\n",
       "         [17, 17, 23]],\n",
       " \n",
       "        [[10, 11, 13],\n",
       "         [10, 11, 13],\n",
       "         [10, 11, 13],\n",
       "         ...,\n",
       "         [11, 14, 18],\n",
       "         [14, 14, 21],\n",
       "         [14, 14, 21]],\n",
       " \n",
       "        [[10, 11, 13],\n",
       "         [10, 11, 13],\n",
       "         [10, 11, 13],\n",
       "         ...,\n",
       "         [12, 15, 19],\n",
       "         [14, 14, 21],\n",
       "         [13, 13, 20]],\n",
       " \n",
       "        ...,\n",
       " \n",
       "        [[17, 20, 24],\n",
       "         [17, 20, 24],\n",
       "         [18, 21, 25],\n",
       "         ...,\n",
       "         [22, 18, 14],\n",
       "         [22, 18, 14],\n",
       "         [22, 18, 14]],\n",
       " \n",
       "        [[17, 18, 20],\n",
       "         [17, 18, 20],\n",
       "         [18, 19, 21],\n",
       "         ...,\n",
       "         [22, 18, 14],\n",
       "         [22, 18, 14],\n",
       "         [22, 18, 14]],\n",
       " \n",
       "        [[15, 18, 17],\n",
       "         [15, 18, 17],\n",
       "         [17, 19, 19],\n",
       "         ...,\n",
       "         [22, 18, 14],\n",
       "         [22, 18, 14],\n",
       "         [22, 18, 14]]], dtype=uint8)\n",
       " orig_shape: (1024, 1024)\n",
       " path: 'd:\\\\GitHub\\\\Yolov8\\\\detect\\\\img\\\\muder1.jpg'\n",
       " probs: None\n",
       " save_dir: 'runs\\\\detect\\\\predict'\n",
       " speed: {'preprocess': 7.792100001097424, 'inference': 125.98999999681837, 'postprocess': 1.722400000289781}]"
      ]
     },
     "execution_count": 12,
     "metadata": {},
     "output_type": "execute_result"
    }
   ],
   "source": [
    "model.predict('img\\muder1.jpg',classes=[43,76.0])"
   ]
  }
 ],
 "metadata": {
  "kernelspec": {
   "display_name": "Python 3",
   "language": "python",
   "name": "python3"
  },
  "language_info": {
   "codemirror_mode": {
    "name": "ipython",
    "version": 3
   },
   "file_extension": ".py",
   "mimetype": "text/x-python",
   "name": "python",
   "nbconvert_exporter": "python",
   "pygments_lexer": "ipython3",
   "version": "3.11.9"
  }
 },
 "nbformat": 4,
 "nbformat_minor": 2
}
